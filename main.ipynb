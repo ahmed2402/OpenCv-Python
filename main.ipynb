{
 "cells": [
  {
   "cell_type": "markdown",
   "id": "fc85f1f3",
   "metadata": {},
   "source": [
    "# COMPUTER VISION WITH OPEN CV"
   ]
  },
  {
   "cell_type": "markdown",
   "id": "a676b88e",
   "metadata": {},
   "source": [
    "## Properties  of image"
   ]
  },
  {
   "cell_type": "code",
   "execution_count": 1,
   "metadata": {},
   "outputs": [],
   "source": [
    "import cv2\n",
    "import numpy as np\n",
    "\n",
    "image = cv2.imread(\"dogs.jpg\")\n",
    "print(\"type : \",type(image))\n",
    "print(\"shape : \",image.shape) ## height,width, no of dimensions/channels\n",
    "\n",
    "## each image is made with pixels which range from 0 to 255\n",
    "## in binary digits white pixels are represented by 1 where as black pixels are represented with 0"
   ]
  },
  {
   "cell_type": "markdown",
   "id": "3b835c0b",
   "metadata": {},
   "source": [
    "## Input/Output"
   ]
  },
  {
   "cell_type": "code",
   "execution_count": null,
   "id": "00a0c226",
   "metadata": {},
   "outputs": [],
   "source": [
    "import cv2\n",
    "\n",
    "#read image\n",
    "img = cv2.imread(\"mcu.jpg\")\n",
    "\n",
    "#write image\n",
    "cv2.imwrite(\"mcu2.jpg\", img) ## will create the same img in this directory with a diff name\n",
    "\n",
    "#visualize image\n",
    "cv2.imshow(\"MCU IMAGE\", img)\n",
    "cv2.waitKey(0) #if it is 0 then at any pressed key it will stop, apart from it if it is a number for example 5000 then it will stop after 5sec"
   ]
  },
  {
   "cell_type": "markdown",
   "id": "d51658f6",
   "metadata": {},
   "source": [
    "##### Same With Video"
   ]
  },
  {
   "cell_type": "code",
   "execution_count": null,
   "id": "b7968713",
   "metadata": {},
   "outputs": [],
   "source": [
    "import cv2\n",
    "\n",
    "#read video \n",
    "vid = cv2.VideoCapture(\"test.mp4\")\n",
    "\n",
    "#visualize image\n",
    "ret = True\n",
    "while ret:\n",
    "    ret,frame = vid.read() #the frame var will read all the frames in the vid and ret is a bool var which will be true until the last frame is executed\n",
    "    if ret: \n",
    "        cv2.imshow(\"Frame\" , frame)\n",
    "        cv2.waitKey(10) #10 sec tk chalegi video\n",
    "\n",
    "vid.release() # releases the memory which open cv has allocated for this video\n",
    "cv2.destroyAllWindows()        "
   ]
  },
  {
   "cell_type": "markdown",
   "id": "ef3e5c88",
   "metadata": {},
   "source": [
    "##### Same with Webcam"
   ]
  },
  {
   "cell_type": "code",
   "execution_count": 1,
   "id": "40574aa1",
   "metadata": {},
   "outputs": [],
   "source": [
    "import cv2\n",
    "\n",
    "#read webcam\n",
    "webcam = cv2.VideoCapture(0) #specify the num of webcam u want to capture\n",
    "\n",
    "#visualize webcame\n",
    "while True:\n",
    "    ret, frame = webcam.read()\n",
    "\n",
    "    cv2.imshow(\"Webcam\", frame)\n",
    "    if cv2.waitKey(20) & 0xFF == ord('q'): #webcame will be open till 20s and stopped when pressed q\n",
    "        break\n",
    "\n",
    "webcam.release()\n",
    "cv2.destroyAllWindows()    "
   ]
  },
  {
   "cell_type": "markdown",
   "id": "4e450301",
   "metadata": {},
   "source": [
    "## Basic Operations"
   ]
  },
  {
   "cell_type": "markdown",
   "id": "5e5ee3df",
   "metadata": {},
   "source": [
    "##### Image Resizing"
   ]
  },
  {
   "cell_type": "code",
   "execution_count": 10,
   "id": "d8de12d8",
   "metadata": {},
   "outputs": [
    {
     "name": "stdout",
     "output_type": "stream",
     "text": [
      "orig img shape :  (194, 259, 3)\n",
      "resized img shape :  (97, 130, 3)\n"
     ]
    }
   ],
   "source": [
    "import cv2\n",
    "\n",
    "img = cv2.imread(\"dogs.jpg\")\n",
    "resized_img = cv2.resize(img, (130,97)) # takes the img and the new shape you want to resize it into (npte : it takes width first then height whereas when printing shape it shows height first then width )\n",
    "print(\"orig img shape : \",img.shape)\n",
    "print(\"resized img shape : \",resized_img.shape)\n",
    "\n",
    "cv2.imshow(\"dogs\",img)\n",
    "cv2.imshow(\"resized dogs\",resized_img)\n",
    "cv2.waitKey(0)\n",
    "cv2.destroyAllWindows()"
   ]
  },
  {
   "cell_type": "markdown",
   "id": "3c740835",
   "metadata": {},
   "source": [
    "##### Image Croping"
   ]
  },
  {
   "cell_type": "code",
   "execution_count": 19,
   "id": "754a2822",
   "metadata": {},
   "outputs": [
    {
     "name": "stdout",
     "output_type": "stream",
     "text": [
      "orig shape:  (225, 225, 3)\n"
     ]
    }
   ],
   "source": [
    "import cv2\n",
    "\n",
    "img = cv2.imread(\"mcu.jpg\")\n",
    "print(\"orig shape: \",img.shape)\n",
    "cropped_img = img[50:100, 100:129] # takes 2 points for both height and width\n",
    "\n",
    "cv2.imshow(\"Orig Img\",img)\n",
    "cv2.imshow(\"Cropped Image\",cropped_img)\n",
    "cv2.waitKey(0)\n",
    "cv2.destroyAllWindows()"
   ]
  },
  {
   "cell_type": "markdown",
   "id": "6143daab",
   "metadata": {},
   "source": [
    "## Colorspaces"
   ]
  },
  {
   "cell_type": "code",
   "execution_count": null,
   "id": "628a798c",
   "metadata": {},
   "outputs": [],
   "source": [
    "import cv2\n",
    "\n",
    "img = cv2.imread(\"nature.jpg\")\n",
    "img_rgb = cv2.cvtColor(img, cv2.COLOR_BGR2RGB) #takes 2 params first the img and color u want\n",
    "img_gray = cv2.cvtColor(img, cv2.COLOR_BGR2GRAY)\n",
    "img_hsv = cv2.cvtColor(img, cv2.COLOR_BGR2HSV)\n",
    "cv2.imshow(\"img\",img)\n",
    "cv2.imshow(\"img_rgb\",img_rgb)\n",
    "cv2.imshow(\"img_gray\",img_gray)\n",
    "cv2.imshow(\"img_hsv\",img_hsv)\n",
    "cv2.waitKey(0)\n",
    "cv2.destroyAllWindows()"
   ]
  },
  {
   "cell_type": "markdown",
   "id": "6ca7dc0c",
   "metadata": {},
   "source": [
    "\n",
    "## Blurring"
   ]
  },
  {
   "cell_type": "code",
   "execution_count": null,
   "id": "d73daf4a",
   "metadata": {},
   "outputs": [],
   "source": [
    "#cv2.blur() is a function in OpenCV used to apply an averaging filter (also known as normalized box filter) to an image, which smooths (blurs) the image by averaging pixel values in a defined neighborhood.\n",
    "# cv2.blur(src, ksize)\n",
    "# Parameters\n",
    "# src: The source image (e.g., the image you loaded using cv2.imread()).\n",
    "# ksize: Kernel size as a tuple (width, height) — this defines the size of the filter window.\n",
    "\n",
    "import cv2\n",
    "\n",
    "#read image\n",
    "img = cv2.imread(\"mcu.jpg\")\n",
    "\n",
    "k_size = 44 #intensity and spread of blur\n",
    "img_blur = cv2.blur(img, (k_size,k_size))\n",
    "#visualize image\n",
    "cv2.imshow(\"MCU IMAGE\", img)\n",
    "cv2.imshow(\"blur IMAGE\", img_blur)\n",
    "cv2.waitKey(0)\n",
    "cv2.destroyAllWindows()"
   ]
  },
  {
   "cell_type": "code",
   "execution_count": 36,
   "id": "2afdbcdd",
   "metadata": {},
   "outputs": [],
   "source": [
    "# cv2.GaussianBlur() in OpenCV applies a Gaussian filter to an image. It's a type of blurring that uses a Gaussian function to calculate the transformation, resulting in a smoother, more natural-looking blur than cv2.blur() because it gives more weight to the center pixels and less to distant ones.\n",
    "# cv2.GaussianBlur(src, ksize, sigmaX)\n",
    "# sigmaX: Gaussian kernel standard deviation in the X direction.\n",
    "import cv2\n",
    "\n",
    "#read image\n",
    "img = cv2.imread(\"mcu.jpg\")\n",
    "\n",
    "k_size = 5 #intensity and spread of blur (must be odd)\n",
    "img_gaus_blur = cv2.GaussianBlur(img, (k_size, k_size), 5)\n",
    "#visualize image\n",
    "cv2.imshow(\"MCU IMAGE\", img)\n",
    "cv2.imshow(\"blur IMAGE\", img_gaus_blur)\n",
    "cv2.waitKey(0)\n",
    "cv2.destroyAllWindows()"
   ]
  },
  {
   "cell_type": "code",
   "execution_count": null,
   "id": "544b9779",
   "metadata": {},
   "outputs": [],
   "source": [
    "# cv2.medianBlur() in OpenCV applies a median filter to the image. It's especially useful for removing \"salt-and-pepper\" noise, where pixels are randomly set to black or white.\n",
    "import cv2\n",
    "\n",
    "#read image\n",
    "img = cv2.imread(\"mcu.jpg\")\n",
    "\n",
    "k_size = 5 #intensity and spread of blur (must be odd)\n",
    "img_median_blur = cv2.medianBlur(img, k_size)\n",
    "#visualize image\n",
    "cv2.imshow(\"MCU IMAGE\", img)\n",
    "cv2.imshow(\"blur IMAGE\", img_median_blur)\n",
    "cv2.waitKey(0)\n",
    "cv2.destroyAllWindows()"
   ]
  },
  {
   "cell_type": "markdown",
   "id": "7cc6008e",
   "metadata": {},
   "source": [
    "## Threshold\n"
   ]
  },
  {
   "cell_type": "markdown",
   "id": "6746569c",
   "metadata": {},
   "source": [
    "In OpenCV, thresholding means changing the color of pixels in an image based on their brightness.\n",
    "\n",
    "If a pixel is brighter than a certain value (called the threshold), it becomes white.\n",
    "If it's darker, it becomes black.\n",
    "\n",
    "This helps to clearly separate objects from the background — like turning a gray photo into just black and white."
   ]
  },
  {
   "cell_type": "code",
   "execution_count": 9,
   "id": "38f48e4b",
   "metadata": {},
   "outputs": [],
   "source": [
    "import cv2\n",
    "\n",
    "img = cv2.imread(\"tiger.jpg\")\n",
    "gray_img = cv2.cvtColor(img, cv2.COLOR_BGR2GRAY)\n",
    "\n",
    "ret, thresh = cv2.threshold(gray_img,80,255,cv2.THRESH_BINARY) #retval, thresholded_image = cv2.threshold(src, thresh, maxval, type)\n",
    "# thresh = cv2.blur(thresh , (10,10)) \n",
    "# ret, thresh = cv2.threshold(gray_img,80,255,cv2.THRESH_BINARY) #retval, thresholded_image = cv2.threshold(src, thresh, maxval, type)\n",
    "cv2.imshow(\"tiger\", img)\n",
    "cv2.imshow(\"GRAY\", gray_img)\n",
    "cv2.imshow(\"thresh\", thresh)\n",
    "cv2.waitKey(0)\n",
    "cv2.destroyAllWindows()"
   ]
  },
  {
   "cell_type": "code",
   "execution_count": null,
   "id": "eaeb6e76",
   "metadata": {},
   "outputs": [],
   "source": [
    "#Adaptive Threshold\n",
    "# Instead of using one fixed threshold value for the whole image, adaptive thresholding calculates the threshold for each small area of the image.\n",
    "# This is helpful when the lighting is not even across the image\n",
    "import cv2\n",
    "\n",
    "img = cv2.imread(\"text.jpg\")\n",
    "gray_img = cv2.cvtColor(img, cv2.COLOR_BGR2GRAY)\n",
    "\n",
    "thresh = cv2.adaptiveThreshold(gray_img, 255 , cv2.ADAPTIVE_THRESH_GAUSSIAN_C, cv2.THRESH_BINARY, 21,30) #cv2.adaptiveThreshold(src, maxValue, adaptiveMethod, thresholdType, blockSize(must be odd), C)\n",
    "\n",
    "\n",
    "cv2.imshow(\"text\", img)\n",
    "cv2.imshow(\"GRAY\", gray_img)\n",
    "cv2.imshow(\"thresh\", thresh)\n",
    "cv2.waitKey(0)\n",
    "cv2.destroyAllWindows()"
   ]
  },
  {
   "cell_type": "markdown",
   "id": "509af3c6",
   "metadata": {},
   "source": [
    "## Edge Detection"
   ]
  },
  {
   "cell_type": "code",
   "execution_count": 2,
   "id": "1ed56d8e",
   "metadata": {},
   "outputs": [],
   "source": [
    "import cv2\n",
    "import numpy as np\n",
    "img = cv2.imread(\"messi.jpg\")\n",
    "cv2.imshow(\"messi\",img)\n",
    "\n",
    "#using Canny\n",
    "img_edge = cv2.Canny(img , 200,200) #edges = cv2.Canny(image, threshold1, threshold2) #pixels btw thresh1 and thresh2 are considered edges\n",
    "cv2.imshow(\"edged\",img_edge)\n",
    "\n",
    "#using Dilate\n",
    "#when used after Canny edge detection, it makes the edges bolder or more visible by expanding them slightly.\n",
    "img_edge_d = cv2.dilate(img_edge, np.ones((2,2), dtype=np.int8)) #dilated = cv2.dilate(src, kernel, iterations)\n",
    "cv2.imshow(\"Dilate\",img_edge_d)\n",
    "\n",
    "#Using Erode \n",
    "#cv2.erode() is a morphological operation that shrinks white regions in a binary image (like edges from Canny).\n",
    "# It does the opposite of dilation — it thins out edges or removes small white noise.\n",
    "img_edge_e = cv2.erode(img_edge_d, np.ones((2,2), dtype=np.int8)) #eroded = cv2.erode(src, kernel, iterations)\n",
    "cv2.imshow(\"Erode\",img_edge_e)\n",
    "cv2.waitKey(0)\n",
    "cv2.destroyAllWindows()"
   ]
  },
  {
   "cell_type": "code",
   "execution_count": null,
   "id": "53c17de7",
   "metadata": {},
   "outputs": [],
   "source": []
  }
 ],
 "metadata": {
  "kernelspec": {
   "display_name": "base",
   "language": "python",
   "name": "python3"
  },
  "language_info": {
   "codemirror_mode": {
    "name": "ipython",
    "version": 3
   },
   "file_extension": ".py",
   "mimetype": "text/x-python",
   "name": "python",
   "nbconvert_exporter": "python",
   "pygments_lexer": "ipython3",
   "version": "3.12.7"
  }
 },
 "nbformat": 4,
 "nbformat_minor": 5
}
